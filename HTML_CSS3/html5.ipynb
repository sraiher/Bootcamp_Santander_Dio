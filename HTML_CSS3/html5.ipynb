{
 "cells": [
  {
   "cell_type": "markdown",
   "metadata": {},
   "source": [
    "## Estrutura básica\n",
    "\n",
    "Em 1991 Tim Bernes-Lee criou essa linguagem de marcação para melhorar a comunicação entre ele e seus colegas de trabalho na CERN, desde então já surgiram 5 versões eo o HTML se tornou a base da web.<p>\n",
    "Com o HTML definimos o significado e a estrutura do conteúdo da web e, além de texto, nossas páginas precisam de imagens, vídeos e va´rios outros formatos e para isso temos os elementos HTML.<p>\n",
    "Um elemento HTML é formado pela tag de abertura e seus atributos, o conteúdo e uma tag de fechamento. E mais a frente veremos que existem elementtos que não têm tag de fechamento.<p>\n",
    "Com esses elementos podemos agruar tipos de conteúdos, alterar tamamho e form de fontes e adicionar diferentes mídias a nossa página na web.<p>\n",
    "E agora podemos ver como é uma estrutura básica de uma arquivo HTML.<P>\n",
    "A primeira linha do documento deve ser o <*!DOCTYPE html*>, apesar de parecer um elemento HTML ela apenas diz ao navegador que ele está lidando com um arquivo do tipo HTML5. Os elementos HTML virão logo abaixo.<p>\n",
    "*\"html\"* <p>\n",
    "A tag _html_ é a raiz do seu documento, todos os elementos HTML devem estar dentro dela E nela nós informamos ao navegador que é o idioma dessee nosso documento, através do atributo *lang*, para o português usamos pt-BR.<p>\n",
    "*\"head\"*<p>\n",
    "A tag _head_ contém elementos que serão lidos pelo navegador, como os _metadados_ - um exemplo é o _charset_, que é a codificação dos caracteres e a mais comum é a *UTF-8*, o _JavaScript_ com a tag _script_, o _CSS_ através das tags style e link - veremos a diferença quando faalarmos sobre CSS - e o título da página com a tag _title_.<p>\n",
    "*\"body\"*<p>\n",
    "E dentro da tag _body_ colocamos todo o conteúdo visível ao usuário: textos, imagens, vídeos."
   ]
  },
  {
   "cell_type": "markdown",
   "metadata": {},
   "source": [
    "### Prática\n",
    "Como exercício para esse curso iremos construir um site pessoal, e precisamos começar com a estrutura básica que acabamos de ver.<p>\n",
    "Vamos criar um arquivo index.html e adicionar o doctype e os elementos html, head e body.<p>\n",
    "Depois adicionaremos os elementos meta e title, no primeiro adicionamos o atributo charset com o valor UTF-8 para dizer ao navegador qual é a codificação dos caracteres e no segundo podemos colocar nosso nome.<p>\n",
    "E por último escreveremos nosso nome dentro do elemento body apenas para enxergarmos isso no navegador."
   ]
  },
  {
   "cell_type": "markdown",
   "metadata": {
    "vscode": {
     "languageId": "html"
    }
   },
   "source": [
    "```\n",
    "<!DOCTYPE html>\n",
    "<html>\n",
    "<head>\n",
    "    <meta charset=\"utf-8\">\n",
    "    <title>Sandra Raiher</title>\n",
    "</head>\n",
    "<body>\n",
    "    Sandra Raiher<p>\n",
    "        Mussum Ipsum, cacilds vidis litro abertis. Leite de capivaris, leite de mula manquis sem cabeça.Interessantiss quisso pudia ce receita de bolis, mais bolis eu num gostis.Manduma pindureta quium dia nois paga.Nullam volutpat risus nec leo commodo, ut interdum diam laoreet. Sed non consequat odio.\n",
    "    </p>\n",
    "</body>\n",
    "\n",
    "</html>\n",
    "```"
   ]
  },
  {
   "cell_type": "markdown",
   "metadata": {},
   "source": [
    "## Semântica\n",
    "\n",
    "Durante muitos anos o elemento padrão no HTML era a _div_, construíamos nosso conteúdo todo baseado nela, e assim nascia a sopa de _divs_.<p>\n",
    "Mas em 2014 saiu a quinta versão do HTML, e com ela vieram várias mudanças importantes, como performance e acessibilidade, mas nesse curso introdutório vamos focar na semântica.<p>\n",
    "A semântica nos permite descrever mais precisamente o nosso conteúdo, agora um bloco de texto não é paenas uma _div_, agora é um _article_ e tem mais significado assim. E temos vários elementos para ressignificar as _divs_:<p>\n",
    "*\"section\"* <p>\n",
    "Representa uma seção genérica de conteúdo quando não houver um elemento mais específico para isso.<p>\n",
    "*\"header\"* <p>\n",
    "É o cabeçaçho da página ou de uma sdeção da página e normalmente conté logotipos, menus, campos de busca.<p>\n",
    "*\"article\"* <p>\n",
    "Representa um conteúdo independente e de maior relevância dentro de uma página, com oum post de blog, uma notícia em uma barra lateral ou um bloco de comentários. Um _article_ pode conter outros elementos, como _hearder_, cabeçalhos, parágrafos e imagens.<p>\n",
    "*\"aside\"* <p>\n",
    "É uma seção que engloba conteúdos relacionados ao conteúdo principal, como artigos relacionados, biografia do autor e publicidade. Normalmente são representadas com barras laterais.<p>\n",
    "*\"footer\"* <p>\n",
    "Esse elemento representa o rodapé do coteúdo ou de parte dele, pois ele é aceito dentro de vários elementos, como _article_ e _section_ e até do _body_. Exemplos de cnteúdo de um _footer_ são informações de autor e _links_ relacionados.\n",
    "*\"h1... h6\"* <p>\n",
    " Eles não foram criados na versão 5 do HTML e nem são específicos para semântica, mas serve para esse propósito. São utilizados para marcar a importância dos títulos, sendo _h1_ o mais importante e _h6_ o menos.<p>\n",
    " * Uma dica: use apenas um _h1_ por página, pois ele represneta o objetivo da sua página.<p>"
   ]
  },
  {
   "cell_type": "markdown",
   "metadata": {},
   "source": [
    "### Prática\n",
    "\n",
    "Dando continuidade ao nosso site iremos montar sua estrutura. Pensei em adicionarmos um cabeçalho com nosso nome, uma lista de posts (como um blog) e um rodapé para nossos contatos.<p>\n",
    "Vamos abrir nosso arquivo index.html e começar pelo cabeçalho: criamos um _header_ logo abaixo do _body_ e colocamos o título da nossa página dentro de um _h1_.<p>\n",
    "Depois criaremos a lista de postagens: abrimos um elemento section e dentro dele adicionamos outro _header_ contendo um _h2_. Notem que eu posso ter mais de um _header_ na página.<p>\n",
    "Para criar nossa postagem adicionamos um _article_ com um _header_ e um _h3_.<p>\n",
    "O último passo desta etapa é criar um rodapé para nossas informações de contato: crie um elemento footer antes de fechar o _body_.<p>\n",
    "Não se preocupe com o layout e com conteúdo da página, nós vamos tratar isso mais a frente."
   ]
  },
  {
   "cell_type": "markdown",
   "metadata": {
    "vscode": {
     "languageId": "html"
    }
   },
   "source": [
    "```\n",
    "<!DOCTYPE html>\n",
    "<html>\n",
    "<head>\n",
    "    <meta charset=\"utf-8\">\n",
    "    <title>Sandra Raiher</title>\n",
    "</head>\n",
    "<body>\n",
    "    <header>\n",
    "        <h1>Sandra Raiher</h1>\n",
    "    </header>\n",
    "    <section>\n",
    "        <header>\n",
    "            <h2>Posts</h2>\n",
    "        </header>\n",
    "        <article>\n",
    "            <header>\n",
    "                <h3>Posts #1</h3>\n",
    "                \n",
    "            </header>\n",
    "        </article>\n",
    "    </section>\n",
    "    <footer>\n",
    "\n",
    "    </footer>\n",
    "</html>\n",
    "```"
   ]
  },
  {
   "cell_type": "markdown",
   "metadata": {},
   "source": [
    "## Textos e Links\n",
    "\n",
    "A criação do HTML foi motivada pela necessidade de compartilhar textos e documentos, e mesmo depois de quase 30 anos, com toda a evolução da web, isso ainda representa uma boa parte do conteúdo da web.<p>\n",
    "Já falamos anteriormente sobre os elementos _h1... h6_ e, eles são essenciais para nos indicar visualmete a importância e localização de seções de texto na página, mas para textos maiores e mais densos usamos o elemento _p_.<p>\n",
    "O _p_ representa um parágrafo, mas ele não suporta apenas texto, podemos adicionar imagens, código, vídeos e vários outros tipos de conteúdo dentro dele.<p>\n",
    "Um outro elemento interessante e extremamente necessário na web é o _a_ que significa anchor/âncora, ele representa um _hyperlink_, é ele que interliga vários conteúdos e páginas na web.<p>\n",
    "O elemento _a_ tem vários atributos, mas vamos focar em dois: _href_ e o _target_.<p>\n",
    "O _href_ representa o _hyperlink_ para onde a sua âncora aponta, pode ser uma página do seu ou putro site, um e-mail e até mesmo um telefone, os dois últimos precisam dos prefixos _mailto:_ e _tel_, respectivamente.<p>\n",
    "O _target_ neste momento vai servir para nos ajudar a abrir nossos links em outra aba do navegador usando a valor __blank_.\n",
    "\n",
    "\n"
   ]
  },
  {
   "cell_type": "markdown",
   "metadata": {},
   "source": [
    "### Prática\n",
    "Vamos adicionar um texto fictício a nossa postagem: logo após o fechamento do _header_ vamos adicionar um elemento _p_e inserir um texto que vamos retirar do site lipsum.com.<p>\n",
    "\n",
    "E em alguma parte deste texto vamos adicionar um hiperlink para outra página e um para nosso e-mail.<p>\n",
    "\n",
    "Criarei um hyperlink para meu perfil no LinkedIn: adicione o _hyperlink_ no atributo _href_ e o valor __blank_ no atributo _target_, assim o link será aberto em outra aba. E em algum outro lugar do texto adicionarei meu e-mail e um link para ele, desta forma:<p>\n",
    "\n",
    "~~~\n",
    "<a href=\"mailto:lucas@vilaboim.com\" target=\"_blank\">lucas@vilaboim.com</a>\n",
    "~~~"
   ]
  },
  {
   "cell_type": "markdown",
   "metadata": {},
   "source": [
    "```\n",
    "<!DOCTYPE html>\n",
    "<html>\n",
    "<head>\n",
    "    <meta charset=\"utf-8\">\n",
    "    <title>Sandra Raiher</title>\n",
    "</head>\n",
    "<body>\n",
    "    <header>\n",
    "        <img src=\"Foto FB.jpg\" alt=\"Foto Sandra Raiher\">\n",
    "        <h1>Sandra Raiher</h1>\n",
    "    </header>\n",
    "    <section>\n",
    "        <header>\n",
    "            <h2>Posts</h2>\n",
    "        </header>\n",
    "        <article>\n",
    "            <header>\n",
    "                <h3>Posts #1</h3>\n",
    "                <img src=\"foto_istock.jpg\" alt=\"Ilustração programação HTML\">\n",
    "            </header>\n",
    "            <p>Mussum Ipsum, cacilds vidis litro abertis \n",
    "                <a href=\"https://www.linkedin.com/in/sandra-raiher-90aa131b/\"target=\"_blanck\">Linkedin.</a>\n",
    "                <p>Interessantiss quisso pudia ce receita de bolis, mais bolis eu num gostis.\n",
    "                <a href=\"mailto:sraiher@gmail.com\">e-mail:</a>\n",
    "                deprimidis, eu conheço uma cachacis que pode alegrar sua vidis.Leite de capivaris, leite de mula manquis sem cabeça.Mais vale um bebadis conhecidiss, que um alcoolatra anonimis.</p>\n",
    "        </article>\n",
    "    </section>\n",
    "    <footer>\n",
    "\n",
    "    </footer>\n",
    "</body>\n",
    "\n",
    "</html>\n",
    "```"
   ]
  },
  {
   "cell_type": "markdown",
   "metadata": {},
   "source": [
    "### Listas\n",
    "\n",
    "Os últimos elementos que veremos neste módulo são os relacionados a listas: _ul_, _ol_ e _li_.\n",
    "Listas servem para agrupar uma coleção de itens, com uma lista de ingerdientes ou, com oserá no nossocaso, uma lista de contatos.<p>\n",
    "O elemento _ul_ cria uma lista não ordenada, onde a ordemdos elementos não é importante, e é representada com pontos, círculos ou quadrados.<p>\n",
    "O _ol_ serve para criarlistas ordenadas, nessas a ordem importa, portanto elas são representadas por números, algarismos romanos ou letras.<p>\n",
    "O elemento _li_ é um item dentro de uma dessas listas. Um _li_ pode conter vários tipos de conteúdos, como parágrafos, imagens e até outras listas."
   ]
  },
  {
   "cell_type": "markdown",
   "metadata": {},
   "source": [
    "### Prática\n",
    "\n",
    "Prática\n",
    "Adicionaremos uma lista de contatos ao rodapé da nossa página, e para isso usaremos também o elemento a que vimos anteriormente.\n",
    "Crie um elemento ul e dentro dele adicione um _li_ com um elemento a, no atributo href adicione o link de alguma rede social que você mantenha e, no conteúdo da âncora coloque o nome dessa rede."
   ]
  },
  {
   "cell_type": "markdown",
   "metadata": {},
   "source": [
    "```\n",
    "<!DOCTYPE html>\n",
    "<html>\n",
    "<head>\n",
    "    <meta charset=\"utf-8\">\n",
    "    <title>Sandra Raiher</title>\n",
    "</head>\n",
    "<body>\n",
    "    <header>\n",
    "        <img src=\"Foto FB.jpg\" alt=\"Foto Sandra Raiher\">\n",
    "        <h1>Sandra Raiher</h1>\n",
    "    </header>\n",
    "    <section>\n",
    "        <header>\n",
    "            <h2>Posts</h2>\n",
    "        </header>\n",
    "        <article>\n",
    "            <header>\n",
    "                <h3>Posts #1</h3>\n",
    "                <img src=\"foto_istock.jpg\" alt=\"Ilustração programação HTML\">\n",
    "            </header>\n",
    "            <p>Mussum Ipsum, cacilds vidis litro abertis \n",
    "                <a href=\"https://www.linkedin.com/in/sandra-raiher-90aa131b/\"target=\"_blanck\">Linkedin.</a>\n",
    "                <p>Interessantiss quisso pudia ce receita de bolis, mais bolis eu num gostis.\n",
    "                <a href=\"mailto:sraiher@gmail.com\">e-mail:</a>\n",
    "                deprimidis, eu conheço uma cachacis que pode alegrar sua vidis.Leite de capivaris, leite de mula manquis sem cabeça.Mais vale um bebadis conhecidiss, que um alcoolatra anonimis.</p>\n",
    "        </article>\n",
    "    </section>\n",
    "    <footer>\n",
    "\n",
    "    </footer>\n",
    "</body>\n",
    "```"
   ]
  }
 ],
 "metadata": {
  "kernelspec": {
   "display_name": "Python 3.9.7 ('base')",
   "language": "python",
   "name": "python3"
  },
  "language_info": {
   "codemirror_mode": {
    "name": "ipython",
    "version": 3
   },
   "file_extension": ".py",
   "mimetype": "text/x-python",
   "name": "python",
   "nbconvert_exporter": "python",
   "pygments_lexer": "ipython3",
   "version": "3.9.7"
  },
  "orig_nbformat": 4,
  "vscode": {
   "interpreter": {
    "hash": "a90aeebcf29d64a654773811cc170cb25061cb2498f10ac689db374c7bf325de"
   }
  }
 },
 "nbformat": 4,
 "nbformat_minor": 2
}
