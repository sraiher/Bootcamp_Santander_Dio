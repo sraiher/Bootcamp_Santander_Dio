{
 "cells": [
  {
   "cell_type": "markdown",
   "metadata": {},
   "source": [
    "## Instale o Git\n",
    "\n",
    "[Download](https://git-scm.com/) ou \n",
    "[Download Windows](https://gitforwindows.org/)\n",
    "\n",
    "Para testar se a instalação foi realizada com sucesso abra o Git Bash\n",
    "\n",
    "~~~\n",
    "$ git --version\n",
    "~~~\n",
    "Deve retornar a versão instalada"
   ]
  },
  {
   "cell_type": "markdown",
   "metadata": {},
   "source": [
    "### Configuração básica\n",
    "\n",
    "`git config -- global user.name <autor>` - Define o nome do `<autor>` de todas as confirmações para o usuário atual\n",
    "\n",
    "`git config -- global user.email <email>` - Define o  `<email>` do autor de todas as confirmações para o usuário atual\n",
    "\n",
    "`git config -- global --edit` - Abre o arquivo de configuração global para que possa ser editado manualmente"
   ]
  },
  {
   "cell_type": "markdown",
   "metadata": {},
   "source": [
    "### Comandos básicos do Bash\n",
    "\n",
    "`pwd`  |  Exibe o diretório atual<br>\n",
    "`ls`   |                   Lista arquivos e pastas no diretório<br>\n",
    "`mkdir` |                    Cria um diretório<br>\n",
    "`cd <pasta>` |               Entra no diretório informado<br>\n",
    "`mv <atual> <novo>` |        Renomeia um arquivo ou diretório<br>\n",
    "`git rm -r <diretório>`  |   Remove somente o diretório informado<br>\n",
    "`git rm <quivo.txt>`   |     Remove somente o arquivo especificado"
   ]
  },
  {
   "cell_type": "markdown",
   "metadata": {},
   "source": [
    "### Observando o seu repositório\n",
    "\n",
    "`git status` Lista as novas modificações feitas e ainda não commitadas\n",
    "\n",
    "`git diff` Exibe as mudanças\n",
    "\n",
    "`git diff --cached` - Exibe as mudanças para os arquivos _staged_\n",
    "\n",
    "`git diff HEAD` - Exibe todas as diferenças entre sua cópia local e o último commit realizado\n",
    "\n",
    "`git log` Mostra o histórico de confirmações."
   ]
  },
  {
   "cell_type": "markdown",
   "metadata": {},
   "source": [
    "### Repositórios remotos\n",
    "\n",
    "O git remote permite criar, ver e excluir conexões comos outros repositórios.\n",
    "\n",
    "`git remote` - Lista as conexões remotas que existem com outros repositórios\n",
    "\n",
    "`git remote add <nome>` - Inclui a URL de cada conexão\n",
    "\n",
    "#### Gerenciando as conexões com outros repositórios\n",
    "\n",
    "`git remote add <nome> <url>` - Cria uma nova conexão com o repositório remoto\n",
    "\n",
    "`git remote rm <nome>` - Remove a conexão como repositório remoto `<nome>`\n",
    "\n",
    "`git remote rename <old-nome> <new-nome>` - Renomeia a conexão de <br>\n",
    "`<old-nome>` para `<new-nome>`\n",
    "\n",
    "`git fetch <remoto>` - Obtém os ramos do depositório remoto\n",
    "\n",
    "`git pull <remoto>` - Obtém uma cópia do repositório remoto e mescla com o repositório local\n",
    "\n",
    "`git push <remoto> <branche>` - Envia o `branche` para o repositório `<remoto>` atulizando, se existe e se não, cria\n"
   ]
  },
  {
   "cell_type": "markdown",
   "metadata": {},
   "source": [
    "### Fazendo alterações\n",
    "\n",
    "`git add <arquivo>` - _Stages_ o arquivo para o commit\n",
    "\n",
    "`git add .` - _Stage_ todos os arquivos para o commit\n",
    "\n",
    "`git commit -m \"mensagem do commit` - _Commita_ todo os arquivos\n",
    "\n",
    "`git commit --amend -m \"nova mensagem de commit\"` Altera a mensagem de commit realizada\n"
   ]
  }
 ],
 "metadata": {
  "kernelspec": {
   "display_name": "Python 3 (ipykernel)",
   "language": "python",
   "name": "python3"
  },
  "language_info": {
   "codemirror_mode": {
    "name": "ipython",
    "version": 3
   },
   "file_extension": ".py",
   "mimetype": "text/x-python",
   "name": "python",
   "nbconvert_exporter": "python",
   "pygments_lexer": "ipython3",
   "version": "3.9.7"
  }
 },
 "nbformat": 4,
 "nbformat_minor": 2
}
